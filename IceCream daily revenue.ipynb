{
 "cells": [
  {
   "cell_type": "markdown",
   "metadata": {
    "id": "fNQ9mYtCb3yM"
   },
   "source": [
    "-------------------------------------------------------\n",
    "# **Hypothesis Testing: IceCream daily revenue**\n",
    "-------------------------------------------------------\n",
    "---------------------\n",
    "## **Context**\n",
    "---------------------\n",
    "\n",
    "An ice cream vendor says he earns about  $ 522 a day with a standard deviation of  170. \n",
    "\n",
    "To test the validity of this statement, the seller provide some data that he collected. the data was obtained from: \"https://www.kaggle.com/datasets/vinicius150987/ice-cream-revenue\"\n",
    "\n",
    "--------------------------\n",
    "## **Key Question**\n",
    "--------------------------\n",
    "\n",
    "Is there enough statistical evidence to conclude that the mean daily revenue  is different from 522 dollars? \n",
    "\n",
    "**Note:** We assume that the samples are randomly selected, independent, and come from a normally distributed population."
   ]
  },
  {
   "cell_type": "markdown",
   "metadata": {
    "id": "5nFy-Lkmb3yR"
   },
   "source": [
    "## **Importing the necessary libraries**"
   ]
  },
  {
   "cell_type": "code",
   "execution_count": 1,
   "metadata": {
    "ExecuteTime": {
     "end_time": "2020-05-12T08:39:10.385004Z",
     "start_time": "2020-05-12T08:39:07.270284Z"
    },
    "id": "MyVUpMAeb3yS"
   },
   "outputs": [],
   "source": [
    "# Import the important packages\n",
    "import pandas as pd  # Library used for data manipulation and analysis\n",
    "\n",
    "import numpy as np  # Library used for working with arrays\n",
    "\n",
    "import matplotlib.pyplot as plt  # Library for visualization\n",
    "\n",
    "import seaborn as sns  # Library for visualization\n",
    "\n",
    "%matplotlib inline\n",
    "\n",
    "import scipy.stats as stats  # This library contains a large number of probability distributions as well as a growing library of statistical functions"
   ]
  },
  {
   "cell_type": "markdown",
   "metadata": {
    "id": "H0wFBWuMb3yT"
   },
   "source": [
    "## **Loading the  Data**"
   ]
  },
  {
   "cell_type": "code",
   "execution_count": 10,
   "metadata": {
    "ExecuteTime": {
     "end_time": "2020-05-12T08:39:10.606474Z",
     "start_time": "2020-05-12T08:39:10.476659Z"
    },
    "id": "1jnK18ELb3yT",
    "outputId": "80cc9274-047a-449f-f7af-2275449c214e"
   },
   "outputs": [
    {
     "data": {
      "text/html": [
       "<div>\n",
       "<style scoped>\n",
       "    .dataframe tbody tr th:only-of-type {\n",
       "        vertical-align: middle;\n",
       "    }\n",
       "\n",
       "    .dataframe tbody tr th {\n",
       "        vertical-align: top;\n",
       "    }\n",
       "\n",
       "    .dataframe thead th {\n",
       "        text-align: right;\n",
       "    }\n",
       "</style>\n",
       "<table border=\"1\" class=\"dataframe\">\n",
       "  <thead>\n",
       "    <tr style=\"text-align: right;\">\n",
       "      <th></th>\n",
       "      <th>Revenue</th>\n",
       "    </tr>\n",
       "  </thead>\n",
       "  <tbody>\n",
       "    <tr>\n",
       "      <th>0</th>\n",
       "      <td>534.799028</td>\n",
       "    </tr>\n",
       "    <tr>\n",
       "      <th>1</th>\n",
       "      <td>625.190122</td>\n",
       "    </tr>\n",
       "    <tr>\n",
       "      <th>2</th>\n",
       "      <td>660.632289</td>\n",
       "    </tr>\n",
       "    <tr>\n",
       "      <th>3</th>\n",
       "      <td>487.706960</td>\n",
       "    </tr>\n",
       "    <tr>\n",
       "      <th>4</th>\n",
       "      <td>316.240194</td>\n",
       "    </tr>\n",
       "  </tbody>\n",
       "</table>\n",
       "</div>"
      ],
      "text/plain": [
       "      Revenue\n",
       "0  534.799028\n",
       "1  625.190122\n",
       "2  660.632289\n",
       "3  487.706960\n",
       "4  316.240194"
      ]
     },
     "execution_count": 10,
     "metadata": {},
     "output_type": "execute_result"
    }
   ],
   "source": [
    "mydata = pd.read_csv('IceCreamData.csv')\n",
    "mydata.drop('Temperature', axis = 1, inplace = True)\n",
    "mydata.head()"
   ]
  },
  {
   "cell_type": "code",
   "execution_count": 11,
   "metadata": {
    "id": "rctzWw0xb3yV",
    "outputId": "0093489d-d1f4-4cce-a28a-69f3cf71138c"
   },
   "outputs": [
    {
     "data": {
      "text/plain": [
       "(500, 1)"
      ]
     },
     "execution_count": 11,
     "metadata": {},
     "output_type": "execute_result"
    }
   ],
   "source": [
    "mydata.shape"
   ]
  },
  {
   "cell_type": "code",
   "execution_count": 12,
   "metadata": {},
   "outputs": [
    {
     "name": "stdout",
     "output_type": "stream",
     "text": [
      "<class 'pandas.core.frame.DataFrame'>\n",
      "RangeIndex: 500 entries, 0 to 499\n",
      "Data columns (total 1 columns):\n",
      " #   Column   Non-Null Count  Dtype  \n",
      "---  ------   --------------  -----  \n",
      " 0   Revenue  500 non-null    float64\n",
      "dtypes: float64(1)\n",
      "memory usage: 4.0 KB\n"
     ]
    }
   ],
   "source": [
    "mydata.info()"
   ]
  },
  {
   "cell_type": "code",
   "execution_count": 16,
   "metadata": {},
   "outputs": [
    {
     "data": {
      "text/html": [
       "<div>\n",
       "<style scoped>\n",
       "    .dataframe tbody tr th:only-of-type {\n",
       "        vertical-align: middle;\n",
       "    }\n",
       "\n",
       "    .dataframe tbody tr th {\n",
       "        vertical-align: top;\n",
       "    }\n",
       "\n",
       "    .dataframe thead th {\n",
       "        text-align: right;\n",
       "    }\n",
       "</style>\n",
       "<table border=\"1\" class=\"dataframe\">\n",
       "  <thead>\n",
       "    <tr style=\"text-align: right;\">\n",
       "      <th></th>\n",
       "      <th>count</th>\n",
       "      <th>mean</th>\n",
       "      <th>std</th>\n",
       "      <th>min</th>\n",
       "      <th>25%</th>\n",
       "      <th>50%</th>\n",
       "      <th>75%</th>\n",
       "      <th>max</th>\n",
       "    </tr>\n",
       "  </thead>\n",
       "  <tbody>\n",
       "    <tr>\n",
       "      <th>Revenue</th>\n",
       "      <td>500.0</td>\n",
       "      <td>521.570777</td>\n",
       "      <td>175.404751</td>\n",
       "      <td>10.0</td>\n",
       "      <td>405.558681</td>\n",
       "      <td>529.368565</td>\n",
       "      <td>642.257922</td>\n",
       "      <td>1000.0</td>\n",
       "    </tr>\n",
       "  </tbody>\n",
       "</table>\n",
       "</div>"
      ],
      "text/plain": [
       "         count        mean         std   min         25%         50%  \\\n",
       "Revenue  500.0  521.570777  175.404751  10.0  405.558681  529.368565   \n",
       "\n",
       "                75%     max  \n",
       "Revenue  642.257922  1000.0  "
      ]
     },
     "execution_count": 16,
     "metadata": {},
     "output_type": "execute_result"
    }
   ],
   "source": [
    "mydata.describe().T"
   ]
  },
  {
   "cell_type": "markdown",
   "metadata": {},
   "source": [
    "## **Steps of Hypothesis Testing**"
   ]
  },
  {
   "cell_type": "markdown",
   "metadata": {
    "id": "SOItsu_8b3yW"
   },
   "source": [
    "### **Step 1: Define the null and the alternate hypotheses**"
   ]
  },
  {
   "cell_type": "markdown",
   "metadata": {
    "id": "urdL3y-yb3yX"
   },
   "source": [
    "**Null hypothesis states that the mean daily revenue, $\\mu$ is equal to 522.**\n",
    "**Alternative hypothesis states that the mean daily revenue, $\\mu$ is not equal to 522.**\n",
    "\n",
    "* $H_0$: $\\mu$ = 522\n",
    "* $H_a$: $\\mu$ $\\neq$ 522"
   ]
  },
  {
   "cell_type": "markdown",
   "metadata": {
    "id": "UWcBNG9jb3yY"
   },
   "source": [
    "### **Step 2: Decide the significance level**"
   ]
  },
  {
   "cell_type": "markdown",
   "metadata": {
    "id": "n7H1gdpJb3yY"
   },
   "source": [
    "Here, $\\alpha$ = 0.05."
   ]
  },
  {
   "cell_type": "code",
   "execution_count": 17,
   "metadata": {
    "ExecuteTime": {
     "end_time": "2020-05-12T08:39:11.495916Z",
     "start_time": "2020-05-12T08:39:11.488554Z"
    },
    "id": "Gy3bJLLmb3yZ",
    "outputId": "e0fa126e-aa28-450f-9d20-d667149ecf93"
   },
   "outputs": [
    {
     "name": "stdout",
     "output_type": "stream",
     "text": [
      "The sample size for this problem is 500\n"
     ]
    }
   ],
   "source": [
    "print(\"The sample size for this problem is\", len(mydata))"
   ]
  },
  {
   "cell_type": "markdown",
   "metadata": {
    "id": "gIND9yN0b3yZ"
   },
   "source": [
    "### **Step 3: Identify the test statistic**"
   ]
  },
  {
   "cell_type": "markdown",
   "metadata": {
    "id": "Haq829H5b3ya"
   },
   "source": [
    "The population is normally distributed and the population standard deviation is assume to be equal to 165. So, we can use the Z-test statistic."
   ]
  },
  {
   "cell_type": "markdown",
   "metadata": {
    "id": "gCmn7vI5b3ya"
   },
   "source": [
    "### **Step 4: Calculate the p-value using z-statistic**"
   ]
  },
  {
   "cell_type": "code",
   "execution_count": 20,
   "metadata": {
    "id": "jAR-d5ypb3ye"
   },
   "outputs": [],
   "source": [
    "sample_mean = mydata[\"Revenue\"].mean()"
   ]
  },
  {
   "cell_type": "code",
   "execution_count": 32,
   "metadata": {
    "ExecuteTime": {
     "end_time": "2020-05-12T08:39:14.193366Z",
     "start_time": "2020-05-12T08:39:14.185193Z"
    },
    "id": "YJj4tUYQb3ye"
   },
   "outputs": [],
   "source": [
    "# Calculating the z-stat\n",
    "\n",
    "n = 500\n",
    "mu = 522\n",
    "sigma = 175\n",
    "\n",
    "test_stat =  (sample_mean - mu) / (sigma / np.sqrt(n)) "
   ]
  },
  {
   "cell_type": "code",
   "execution_count": 33,
   "metadata": {
    "id": "6kTNDptbb3ye",
    "outputId": "440ec898-20e5-4ca4-d5dc-85c43247e6a8"
   },
   "outputs": [
    {
     "data": {
      "text/plain": [
       "-0.05484414258538087"
      ]
     },
     "execution_count": 33,
     "metadata": {},
     "output_type": "execute_result"
    }
   ],
   "source": [
    "test_stat"
   ]
  },
  {
   "cell_type": "code",
   "execution_count": 34,
   "metadata": {
    "id": "s30Wp6Pdb3yf"
   },
   "outputs": [],
   "source": [
    "from scipy.stats import norm\n",
    "\n",
    "# The p-value for one-tailed test\n",
    "p_value1 = 1 - norm.cdf(test_stat)\n",
    "\n",
    "# We can find the p_value for the the two-tailed test from the one-tailed test\n",
    "p_value_ztest = p_value1 * 2"
   ]
  },
  {
   "cell_type": "code",
   "execution_count": 35,
   "metadata": {
    "id": "W6KfZDe7b3yf",
    "outputId": "77254b39-a079-4db9-c2b2-6384ff549d48"
   },
   "outputs": [
    {
     "name": "stdout",
     "output_type": "stream",
     "text": [
      "The p-value is: 1.0437373673957615 \n"
     ]
    }
   ],
   "source": [
    "print('The p-value is: {0} '.format(p_value_ztest))"
   ]
  },
  {
   "cell_type": "markdown",
   "metadata": {
    "id": "224Pd6vgb3yg"
   },
   "source": [
    "### **Step 5: Decide to reject or fail to reject the null hypothesis based on the z-statistic**"
   ]
  },
  {
   "cell_type": "code",
   "execution_count": 40,
   "metadata": {
    "id": "Li5vbRrkb3yg",
    "outputId": "0aae5590-78af-4d9d-fa0f-07d3efb07fbd"
   },
   "outputs": [
    {
     "name": "stdout",
     "output_type": "stream",
     "text": [
      "Level of significance: 0.05\n",
      "We do not have sufficient evidence to reject the null hypothesis as the p-value (1.04) is greater than the level of significance\n"
     ]
    }
   ],
   "source": [
    "alpha_value = 0.05 # Level of significance\n",
    "\n",
    "print('Level of significance: %.2f' %alpha_value)\n",
    "\n",
    "if p_value_ztest < alpha_value: \n",
    "    print('We have the evidence to reject the null hypothesis as the p-value is less than the level of significance'.format(p_value_ztest))\n",
    "else:\n",
    "    print('We do not have sufficient evidence to reject the null hypothesis as the p-value ({:.2f}) is greater than the level of significance'.format(p_value_ztest)) \n",
    "\n"
   ]
  },
  {
   "cell_type": "markdown",
   "metadata": {
    "id": "MiNHxWM3b3yh"
   },
   "source": [
    "The z-statistic has been computed based on the premise that the population standard deviation is known. However, this assumption is unlikely to hold in reality. To address this issue, an alternative test called the **t-statistic** exists, which is akin to the z-statistic but assumes that the population standard deviation is unknown and utilizes the sample standard deviation to compute the test statistic."
   ]
  },
  {
   "cell_type": "markdown",
   "metadata": {
    "id": "O2ywLjzsb3yh"
   },
   "source": [
    "We will use **scipy.stats.ttest_1samp** which calculates the t-test for the mean of one sample given the sample observations. This function returns the t statistic and the p-value for a two-tailed t-test."
   ]
  },
  {
   "cell_type": "markdown",
   "metadata": {
    "id": "G6ejuDieb3yi"
   },
   "source": [
    "### **Step 6: Calculate the p-value using t-statistic**"
   ]
  },
  {
   "cell_type": "code",
   "execution_count": 43,
   "metadata": {
    "id": "MuOryIk3b3yi",
    "outputId": "caa36bb1-75c6-42d5-f923-f514f09fe3ed"
   },
   "outputs": [
    {
     "name": "stdout",
     "output_type": "stream",
     "text": [
      "One sample t-test \n",
      "t statistic: [-0.05471759] p value: [0.95638536] \n"
     ]
    }
   ],
   "source": [
    "t_statistic, p_value_ttest = stats.ttest_1samp(mydata, popmean = 522)\n",
    "print('One sample t-test \\nt statistic: {0} p value: {1} '.format(t_statistic, p_value_ttest))"
   ]
  },
  {
   "cell_type": "markdown",
   "metadata": {
    "id": "XbTKSdV8b3yi"
   },
   "source": [
    "### **Step 7: Decide to reject or not to reject the null hypothesis based on t-statistic**"
   ]
  },
  {
   "cell_type": "code",
   "execution_count": 44,
   "metadata": {
    "ExecuteTime": {
     "end_time": "2020-03-27T11:10:29.927035Z",
     "start_time": "2020-03-27T11:10:29.921051Z"
    },
    "id": "thWqVEosb3yj",
    "outputId": "bdefee51-a498-4fe8-cfeb-355c0e38a232"
   },
   "outputs": [
    {
     "name": "stdout",
     "output_type": "stream",
     "text": [
      "Level of significance: 0.05\n",
      "We do not have sufficient evidence to reject the null hypothesis as the p-value is greater than the level of significance\n"
     ]
    }
   ],
   "source": [
    "alpha_value = 0.05 # Level of significance\n",
    "\n",
    "print('Level of significance: %.2f' %alpha_value)\n",
    "\n",
    "if p_value_ttest < alpha_value: \n",
    "    print('We have the evidence to reject the null hypothesis as the p-value is less than the level of significance'.format(p_value_ttest))\n",
    "else:\n",
    "    print('We do not have sufficient evidence to reject the null hypothesis as the p-value is greater than the level of significance'.format(p_value_ttest)) \n",
    "\n"
   ]
  },
  {
   "cell_type": "markdown",
   "metadata": {
    "id": "0cx01v8Ib3yj"
   },
   "source": [
    "**Observation:** \n",
    "\n",
    "- At a 5% significance level, we do not have enough statistical evidence to prove that the mean daily revenue is not equal to 522 dollars. "
   ]
  },
  {
   "cell_type": "code",
   "execution_count": null,
   "metadata": {},
   "outputs": [],
   "source": []
  }
 ],
 "metadata": {
  "colab": {
   "name": "Mobile_Internet_Case_Study.ipynb",
   "provenance": []
  },
  "kernelspec": {
   "display_name": "Python 3 (ipykernel)",
   "language": "python",
   "name": "python3"
  },
  "language_info": {
   "codemirror_mode": {
    "name": "ipython",
    "version": 3
   },
   "file_extension": ".py",
   "mimetype": "text/x-python",
   "name": "python",
   "nbconvert_exporter": "python",
   "pygments_lexer": "ipython3",
   "version": "3.9.7"
  },
  "toc": {
   "base_numbering": 1,
   "nav_menu": {},
   "number_sections": true,
   "sideBar": true,
   "skip_h1_title": false,
   "title_cell": "Table of Contents",
   "title_sidebar": "Contents",
   "toc_cell": false,
   "toc_position": {},
   "toc_section_display": true,
   "toc_window_display": false
  },
  "varInspector": {
   "cols": {
    "lenName": 16,
    "lenType": 16,
    "lenVar": 40
   },
   "kernels_config": {
    "python": {
     "delete_cmd_postfix": "",
     "delete_cmd_prefix": "del ",
     "library": "var_list.py",
     "varRefreshCmd": "print(var_dic_list())"
    },
    "r": {
     "delete_cmd_postfix": ") ",
     "delete_cmd_prefix": "rm(",
     "library": "var_list.r",
     "varRefreshCmd": "cat(var_dic_list()) "
    }
   },
   "types_to_exclude": [
    "module",
    "function",
    "builtin_function_or_method",
    "instance",
    "_Feature"
   ],
   "window_display": false
  }
 },
 "nbformat": 4,
 "nbformat_minor": 1
}
